{
 "cells": [
  {
   "cell_type": "markdown",
   "metadata": {},
   "source": [
    "# Wisconsin Diagnostic Breast Cancer (WDBC)\n",
    "\n",
    "This Jupyter Notebook contains the development of a pattern classifier in the Wisconsin Diagnostic Breast Cancer (WDBC) dataset"
   ]
  },
  {
   "cell_type": "code",
   "execution_count": null,
   "metadata": {},
   "outputs": [],
   "source": [
    "# Importing Libraries\n",
    "import pandas as pd\n",
    "from sklearn.model_selection import KFold\n",
    "import numpy as np\n",
    "from sklearn import tree\n",
    "\n",
    "from sklearn.metrics import accuracy_score\n",
    "from sklearn.metrics import f1_score\n",
    "from sklearn.metrics import precision_score\n",
    "from sklearn.metrics import recall_score\n",
    "\n",
    "from matplotlib import pyplot as plt\n",
    "\n",
    "import seaborn as sns\n",
    "\n",
    "import shap\n",
    "import xgboost\n",
    "\n",
    "import plotly.express as px"
   ]
  },
  {
   "cell_type": "code",
   "execution_count": null,
   "metadata": {},
   "outputs": [],
   "source": [
    "# Read the dataset and drop id and NaN data column\n",
    "df = pd.read_csv('data.csv')\n",
    "df = df.drop(['Unnamed: 32', 'id'], axis = 1)"
   ]
  },
  {
   "cell_type": "code",
   "execution_count": null,
   "metadata": {
    "scrolled": true
   },
   "outputs": [],
   "source": [
    "# Check output class distribution\n",
    "ax = sns.countplot(df['diagnosis'], label=\"Count\")"
   ]
  },
  {
   "cell_type": "code",
   "execution_count": null,
   "metadata": {},
   "outputs": [],
   "source": [
    "# Run Decision Tree Classifier on the entire Dataset with K-Folds = 10\n",
    "X, y = df.drop(['diagnosis'], axis = 1), df['diagnosis'].replace({'B': 0, 'M': 1})\n",
    "X, y = np.array(X), np.array(y)\n",
    "\n",
    "kf = KFold(n_splits=10, shuffle = True)\n",
    "kf.get_n_splits(X)\n",
    "\n",
    "print(kf)\n",
    "\n",
    "Metrics = []\n",
    "\n",
    "Classifier = []\n",
    "\n",
    "for train_index, test_index in kf.split(X):\n",
    "    X_train, X_test = X[train_index], X[test_index]\n",
    "    y_train, y_test = y[train_index], y[test_index]\n",
    "    \n",
    "    clf = tree.DecisionTreeClassifier()\n",
    "    clf = clf.fit(X_train, y_train)\n",
    "    \n",
    "    y_pred = clf.predict(X_test)\n",
    "    \n",
    "    SubMetric = dict()\n",
    "    \n",
    "    SubMetric['Accuracy'] = accuracy_score(y_test, y_pred)\n",
    "    SubMetric['F1'] = f1_score(y_test, y_pred)\n",
    "    SubMetric['Precision'] = precision_score(y_test, y_pred)\n",
    "    SubMetric['Recall'] = recall_score(y_test, y_pred)\n",
    "    \n",
    "    Metrics.append(SubMetric)\n",
    "    Classifier.append(clf)\n",
    "    \n",
    "Metrics = pd.DataFrame.from_dict(Metrics)\n",
    "\n",
    "print('\\n Predict test results:')\n",
    "print(Metrics)\n",
    "\n",
    "print('\\n Predict test statistics:')\n",
    "print(Metrics.describe([.5, .9]).transpose())"
   ]
  },
  {
   "cell_type": "code",
   "execution_count": null,
   "metadata": {
    "scrolled": true
   },
   "outputs": [],
   "source": [
    "# Use Shap to determine the most important feature on the classification\n",
    "X, y = df.drop(['diagnosis'], axis = 1), df['diagnosis'].replace({'B': 0, 'M': 1})\n",
    "\n",
    "shap.initjs()\n",
    "\n",
    "model = xgboost.train({\"learning_rate\": 0.01}, xgboost.DMatrix(X, label=y), 10)\n",
    "\n",
    "explainer = shap.TreeExplainer(model)\n",
    "shap_values = explainer.shap_values(X)\n",
    "\n",
    "shap.summary_plot(shap_values, X, plot_type=\"bar\")"
   ]
  },
  {
   "cell_type": "code",
   "execution_count": null,
   "metadata": {
    "scrolled": true
   },
   "outputs": [],
   "source": [
    "# Plot a 3D Scatter with the 3 most important features obtained with shap\n",
    "fig = px.scatter_3d(df, x='radius_worst', y='concave points_worst', z='texture_worst',\n",
    "              color='diagnosis')\n",
    "fig.show()"
   ]
  },
  {
   "cell_type": "code",
   "execution_count": null,
   "metadata": {
    "scrolled": true
   },
   "outputs": [],
   "source": [
    "# Plot a 3D Scatter with the 3 most important features obtained with shap\n",
    "fig = px.scatter(df, x='radius_worst', y='concave points_worst', color='diagnosis')\n",
    "fig.show()"
   ]
  },
  {
   "cell_type": "code",
   "execution_count": null,
   "metadata": {},
   "outputs": [],
   "source": [
    "# Run Decision Tree Classifier on the 3 most important features obtained with shap with K-Folds = 10\n",
    "X, y = df[['radius_worst', 'concave points_worst', 'texture_worst']], df['diagnosis'].replace({'B': 0, 'M': 1})\n",
    "X, y = np.array(X), np.array(y)\n",
    "\n",
    "kf = KFold(n_splits=10, shuffle = True)\n",
    "kf.get_n_splits(X)\n",
    "\n",
    "print(kf)\n",
    "\n",
    "Metrics = []\n",
    "\n",
    "Classifier = []\n",
    "\n",
    "for train_index, test_index in kf.split(X):\n",
    "    X_train, X_test = X[train_index], X[test_index]\n",
    "    y_train, y_test = y[train_index], y[test_index]\n",
    "    \n",
    "    clf = tree.DecisionTreeClassifier()\n",
    "    clf = clf.fit(X_train, y_train)\n",
    "    \n",
    "    y_pred = clf.predict(X_test)\n",
    "    \n",
    "    SubMetric = dict()\n",
    "    \n",
    "    SubMetric['Accuracy'] = accuracy_score(y_test, y_pred)\n",
    "    SubMetric['F1'] = f1_score(y_test, y_pred)\n",
    "    SubMetric['Precision'] = precision_score(y_test, y_pred)\n",
    "    SubMetric['Recall'] = recall_score(y_test, y_pred)\n",
    "    \n",
    "    Metrics.append(SubMetric)\n",
    "    Classifier.append(clf)\n",
    "    \n",
    "Metrics = pd.DataFrame.from_dict(Metrics)\n",
    "\n",
    "print('\\n Predict test results:')\n",
    "print(Metrics)\n",
    "\n",
    "print('\\n Predict test statistics:')\n",
    "print(Metrics.describe([.5, .9]).transpose())"
   ]
  },
  {
   "cell_type": "code",
   "execution_count": null,
   "metadata": {},
   "outputs": [],
   "source": [
    "# Run Decision Tree Classifier on the 2 most important features obtained with shap with K-Folds = 10\n",
    "X, y = df[['radius_worst', 'concave points_worst']], df['diagnosis'].replace({'B': 0, 'M': 1})\n",
    "X, y = np.array(X), np.array(y)\n",
    "\n",
    "kf = KFold(n_splits=10, shuffle = True)\n",
    "kf.get_n_splits(X)\n",
    "\n",
    "print(kf)\n",
    "\n",
    "Metrics = []\n",
    "\n",
    "Classifier = []\n",
    "\n",
    "for train_index, test_index in kf.split(X):\n",
    "    X_train, X_test = X[train_index], X[test_index]\n",
    "    y_train, y_test = y[train_index], y[test_index]\n",
    "    \n",
    "    clf = tree.DecisionTreeClassifier()\n",
    "    clf = clf.fit(X_train, y_train)\n",
    "    \n",
    "    y_pred = clf.predict(X_test)\n",
    "    \n",
    "    SubMetric = dict()\n",
    "    \n",
    "    SubMetric['Accuracy'] = accuracy_score(y_test, y_pred)\n",
    "    SubMetric['F1'] = f1_score(y_test, y_pred)\n",
    "    SubMetric['Precision'] = precision_score(y_test, y_pred)\n",
    "    SubMetric['Recall'] = recall_score(y_test, y_pred)\n",
    "    \n",
    "    Metrics.append(SubMetric)\n",
    "    Classifier.append(clf)\n",
    "    \n",
    "Metrics = pd.DataFrame.from_dict(Metrics)\n",
    "\n",
    "print('\\n Predict test results:')\n",
    "print(Metrics)\n",
    "\n",
    "print('\\n Predict test statistics:')\n",
    "print(Metrics.describe([.5, .9]).transpose())"
   ]
  }
 ],
 "metadata": {
  "kernelspec": {
   "display_name": "Python 3",
   "language": "python",
   "name": "python3"
  },
  "language_info": {
   "codemirror_mode": {
    "name": "ipython",
    "version": 3
   },
   "file_extension": ".py",
   "mimetype": "text/x-python",
   "name": "python",
   "nbconvert_exporter": "python",
   "pygments_lexer": "ipython3",
   "version": "3.7.7"
  }
 },
 "nbformat": 4,
 "nbformat_minor": 4
}
