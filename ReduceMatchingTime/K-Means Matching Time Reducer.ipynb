{
 "cells": [
  {
   "cell_type": "code",
   "execution_count": 1,
   "metadata": {},
   "outputs": [],
   "source": [
    "from sklearn.datasets import make_blobs\n",
    "import pandas as pd\n",
    "import plotly.express as px\n",
    "\n",
    "import numpy as np\n",
    "\n",
    "from sklearn.cluster import KMeans\n",
    "\n",
    "import time"
   ]
  },
  {
   "cell_type": "code",
   "execution_count": 2,
   "metadata": {},
   "outputs": [],
   "source": [
    "def EuclideanDistance(a, b):\n",
    "    return np.linalg.norm(a-b)\n",
    "\n",
    "def BruteForceSearch(Principal, TestPoint):\n",
    "    MinEuclideanDistance = np.inf\n",
    "    for i in range(len(Principal)):\n",
    "        Dist = EuclideanDistance(Principal.loc[i, ['x1', 'x2', 'x3']], TestPoint)\n",
    "        if Dist < MinEuclideanDistance:\n",
    "            ClosePoint = i\n",
    "            MinEuclideanDistance = Dist\n",
    "    return Principal['PointName'][ClosePoint]"
   ]
  },
  {
   "cell_type": "markdown",
   "metadata": {},
   "source": [
    "# Inicia os parâmetros para a geração da base de dados"
   ]
  },
  {
   "cell_type": "code",
   "execution_count": 3,
   "metadata": {},
   "outputs": [],
   "source": [
    "#Initial Parameters\n",
    "NumberOfData = 10000\n",
    "NumberOfCenters = 5\n",
    "PlotData = False"
   ]
  },
  {
   "cell_type": "markdown",
   "metadata": {},
   "source": [
    "# Geração da base de dados"
   ]
  },
  {
   "cell_type": "code",
   "execution_count": 4,
   "metadata": {},
   "outputs": [],
   "source": [
    "X, y = make_blobs(n_samples = NumberOfData, centers = NumberOfCenters, n_features=3, cluster_std = 0.08, center_box = [0, 1])\n",
    "DataFrame = pd.DataFrame(X, columns = ['x1', 'x2', 'x3'])\n",
    "DataFrame['y'] = y\n",
    "DataFrame['PointName'] = DataFrame.index\n",
    "DataFrame['PointName'] = DataFrame['PointName'].apply(lambda x: 'p' + str(x))"
   ]
  },
  {
   "cell_type": "code",
   "execution_count": 5,
   "metadata": {},
   "outputs": [
    {
     "data": {
      "text/html": [
       "<div>\n",
       "<style scoped>\n",
       "    .dataframe tbody tr th:only-of-type {\n",
       "        vertical-align: middle;\n",
       "    }\n",
       "\n",
       "    .dataframe tbody tr th {\n",
       "        vertical-align: top;\n",
       "    }\n",
       "\n",
       "    .dataframe thead th {\n",
       "        text-align: right;\n",
       "    }\n",
       "</style>\n",
       "<table border=\"1\" class=\"dataframe\">\n",
       "  <thead>\n",
       "    <tr style=\"text-align: right;\">\n",
       "      <th></th>\n",
       "      <th>count</th>\n",
       "      <th>mean</th>\n",
       "      <th>std</th>\n",
       "      <th>min</th>\n",
       "      <th>25%</th>\n",
       "      <th>50%</th>\n",
       "      <th>75%</th>\n",
       "      <th>max</th>\n",
       "    </tr>\n",
       "  </thead>\n",
       "  <tbody>\n",
       "    <tr>\n",
       "      <th>x1</th>\n",
       "      <td>10000.0</td>\n",
       "      <td>0.519151</td>\n",
       "      <td>0.251062</td>\n",
       "      <td>-0.136852</td>\n",
       "      <td>0.330150</td>\n",
       "      <td>0.559471</td>\n",
       "      <td>0.732464</td>\n",
       "      <td>1.075205</td>\n",
       "    </tr>\n",
       "    <tr>\n",
       "      <th>x2</th>\n",
       "      <td>10000.0</td>\n",
       "      <td>0.537008</td>\n",
       "      <td>0.385637</td>\n",
       "      <td>-0.129341</td>\n",
       "      <td>0.169411</td>\n",
       "      <td>0.438626</td>\n",
       "      <td>0.952511</td>\n",
       "      <td>1.231879</td>\n",
       "    </tr>\n",
       "    <tr>\n",
       "      <th>x3</th>\n",
       "      <td>10000.0</td>\n",
       "      <td>0.523057</td>\n",
       "      <td>0.214533</td>\n",
       "      <td>-0.028889</td>\n",
       "      <td>0.337159</td>\n",
       "      <td>0.491662</td>\n",
       "      <td>0.725545</td>\n",
       "      <td>1.053206</td>\n",
       "    </tr>\n",
       "  </tbody>\n",
       "</table>\n",
       "</div>"
      ],
      "text/plain": [
       "      count      mean       std       min       25%       50%       75%  \\\n",
       "x1  10000.0  0.519151  0.251062 -0.136852  0.330150  0.559471  0.732464   \n",
       "x2  10000.0  0.537008  0.385637 -0.129341  0.169411  0.438626  0.952511   \n",
       "x3  10000.0  0.523057  0.214533 -0.028889  0.337159  0.491662  0.725545   \n",
       "\n",
       "         max  \n",
       "x1  1.075205  \n",
       "x2  1.231879  \n",
       "x3  1.053206  "
      ]
     },
     "execution_count": 5,
     "metadata": {},
     "output_type": "execute_result"
    }
   ],
   "source": [
    "DataFrame[['x1', 'x2', 'x3']].describe().transpose()"
   ]
  },
  {
   "cell_type": "markdown",
   "metadata": {},
   "source": [
    "# Plot da base de dados gerada"
   ]
  },
  {
   "cell_type": "code",
   "execution_count": 6,
   "metadata": {},
   "outputs": [],
   "source": [
    "if PlotData:\n",
    "    fig = px.scatter_3d(DataFrame, x=\"x1\", y=\"x2\", z=\"x3\", color = 'y')\n",
    "    fig.show()"
   ]
  },
  {
   "cell_type": "markdown",
   "metadata": {},
   "source": [
    "# Remoção da variável de output dos dados gerados"
   ]
  },
  {
   "cell_type": "code",
   "execution_count": 7,
   "metadata": {},
   "outputs": [],
   "source": [
    "DataFrame = DataFrame.drop(['y'], axis = 1)"
   ]
  },
  {
   "cell_type": "markdown",
   "metadata": {},
   "source": [
    "# Declaração dos parâmetros do algoritmo K-Means"
   ]
  },
  {
   "cell_type": "code",
   "execution_count": 8,
   "metadata": {},
   "outputs": [],
   "source": [
    "NClusters = 4"
   ]
  },
  {
   "cell_type": "code",
   "execution_count": 9,
   "metadata": {},
   "outputs": [],
   "source": [
    "kmeans = KMeans(n_clusters=NClusters).fit(DataFrame[['x1', 'x2', 'x3']])\n",
    "DataFrame['KMeans'] = kmeans.labels_"
   ]
  },
  {
   "cell_type": "code",
   "execution_count": 10,
   "metadata": {},
   "outputs": [],
   "source": [
    "if PlotData:\n",
    "    fig = px.scatter_3d(DataFrame, x=\"x1\", y=\"x2\", z=\"x3\", color = 'KMeans')\n",
    "    fig.show()"
   ]
  },
  {
   "cell_type": "code",
   "execution_count": 11,
   "metadata": {},
   "outputs": [
    {
     "data": {
      "text/html": [
       "<div>\n",
       "<style scoped>\n",
       "    .dataframe tbody tr th:only-of-type {\n",
       "        vertical-align: middle;\n",
       "    }\n",
       "\n",
       "    .dataframe tbody tr th {\n",
       "        vertical-align: top;\n",
       "    }\n",
       "\n",
       "    .dataframe thead th {\n",
       "        text-align: right;\n",
       "    }\n",
       "</style>\n",
       "<table border=\"1\" class=\"dataframe\">\n",
       "  <thead>\n",
       "    <tr style=\"text-align: right;\">\n",
       "      <th></th>\n",
       "      <th>x1</th>\n",
       "      <th>x2</th>\n",
       "      <th>x3</th>\n",
       "      <th>PointName</th>\n",
       "      <th>KMeans</th>\n",
       "    </tr>\n",
       "  </thead>\n",
       "  <tbody>\n",
       "    <tr>\n",
       "      <th>0</th>\n",
       "      <td>0.804405</td>\n",
       "      <td>0.538887</td>\n",
       "      <td>0.303149</td>\n",
       "      <td>p0</td>\n",
       "      <td>3</td>\n",
       "    </tr>\n",
       "    <tr>\n",
       "      <th>1</th>\n",
       "      <td>0.435434</td>\n",
       "      <td>0.180533</td>\n",
       "      <td>0.730449</td>\n",
       "      <td>p1</td>\n",
       "      <td>1</td>\n",
       "    </tr>\n",
       "    <tr>\n",
       "      <th>2</th>\n",
       "      <td>0.589036</td>\n",
       "      <td>1.104541</td>\n",
       "      <td>0.381682</td>\n",
       "      <td>p2</td>\n",
       "      <td>2</td>\n",
       "    </tr>\n",
       "    <tr>\n",
       "      <th>3</th>\n",
       "      <td>0.361288</td>\n",
       "      <td>0.242431</td>\n",
       "      <td>0.731942</td>\n",
       "      <td>p3</td>\n",
       "      <td>1</td>\n",
       "    </tr>\n",
       "    <tr>\n",
       "      <th>4</th>\n",
       "      <td>0.053772</td>\n",
       "      <td>1.016402</td>\n",
       "      <td>0.326104</td>\n",
       "      <td>p4</td>\n",
       "      <td>0</td>\n",
       "    </tr>\n",
       "    <tr>\n",
       "      <th>...</th>\n",
       "      <td>...</td>\n",
       "      <td>...</td>\n",
       "      <td>...</td>\n",
       "      <td>...</td>\n",
       "      <td>...</td>\n",
       "    </tr>\n",
       "    <tr>\n",
       "      <th>9995</th>\n",
       "      <td>0.593098</td>\n",
       "      <td>1.164956</td>\n",
       "      <td>0.667829</td>\n",
       "      <td>p9995</td>\n",
       "      <td>2</td>\n",
       "    </tr>\n",
       "    <tr>\n",
       "      <th>9996</th>\n",
       "      <td>0.409156</td>\n",
       "      <td>0.180244</td>\n",
       "      <td>0.832301</td>\n",
       "      <td>p9996</td>\n",
       "      <td>1</td>\n",
       "    </tr>\n",
       "    <tr>\n",
       "      <th>9997</th>\n",
       "      <td>0.686289</td>\n",
       "      <td>0.945746</td>\n",
       "      <td>0.411406</td>\n",
       "      <td>p9997</td>\n",
       "      <td>2</td>\n",
       "    </tr>\n",
       "    <tr>\n",
       "      <th>9998</th>\n",
       "      <td>0.095231</td>\n",
       "      <td>0.949888</td>\n",
       "      <td>0.248984</td>\n",
       "      <td>p9998</td>\n",
       "      <td>0</td>\n",
       "    </tr>\n",
       "    <tr>\n",
       "      <th>9999</th>\n",
       "      <td>0.166216</td>\n",
       "      <td>0.921474</td>\n",
       "      <td>0.331765</td>\n",
       "      <td>p9999</td>\n",
       "      <td>0</td>\n",
       "    </tr>\n",
       "  </tbody>\n",
       "</table>\n",
       "<p>10000 rows × 5 columns</p>\n",
       "</div>"
      ],
      "text/plain": [
       "            x1        x2        x3 PointName  KMeans\n",
       "0     0.804405  0.538887  0.303149        p0       3\n",
       "1     0.435434  0.180533  0.730449        p1       1\n",
       "2     0.589036  1.104541  0.381682        p2       2\n",
       "3     0.361288  0.242431  0.731942        p3       1\n",
       "4     0.053772  1.016402  0.326104        p4       0\n",
       "...        ...       ...       ...       ...     ...\n",
       "9995  0.593098  1.164956  0.667829     p9995       2\n",
       "9996  0.409156  0.180244  0.832301     p9996       1\n",
       "9997  0.686289  0.945746  0.411406     p9997       2\n",
       "9998  0.095231  0.949888  0.248984     p9998       0\n",
       "9999  0.166216  0.921474  0.331765     p9999       0\n",
       "\n",
       "[10000 rows x 5 columns]"
      ]
     },
     "execution_count": 11,
     "metadata": {},
     "output_type": "execute_result"
    }
   ],
   "source": [
    "DataFrame"
   ]
  },
  {
   "cell_type": "markdown",
   "metadata": {},
   "source": [
    "# Teste da metodologia\n",
    "\n",
    "- Etapas Globais:\n",
    "    - Determina-se a quantidade de testes a ser realizado;\n",
    "    - Determina-se os parâmetros de teste;\n",
    "    - Gera-se uma lista de pontos de teste aleatórios.\n",
    "    \n",
    "- Busca exaustiva:\n",
    "    - Para cada ponto aleatório na lista de pontos aleatórios faz-se a busca do ponto mais próximo.\n",
    "\n",
    "- Busca no cluster:\n",
    "    - Para cada ponto aleatório na lista de pontos aleatórios encontra a qual cluster ele pertence pelo algoritmo K-Means;\n",
    "    - Faz-se a busca do ponto mais próximo olhando os pontos da base principal que fazem parte do cluster que o ponto aleatório foi determinado.\n"
   ]
  },
  {
   "cell_type": "code",
   "execution_count": 12,
   "metadata": {},
   "outputs": [],
   "source": [
    "NpointsOfTest = 10 # Quantidade de pontos de teste"
   ]
  },
  {
   "cell_type": "code",
   "execution_count": 13,
   "metadata": {},
   "outputs": [],
   "source": [
    "PointsOfTest = []\n",
    "for i in range(NpointsOfTest):\n",
    "    PointsOfTest.append(list(np.random.rand(1,3)[0]))\n",
    "PointsOfTest = pd.DataFrame(PointsOfTest, columns = ['x1', 'x2', 'x3'])"
   ]
  },
  {
   "cell_type": "code",
   "execution_count": 14,
   "metadata": {
    "scrolled": true
   },
   "outputs": [],
   "source": [
    "MatchedPoint = []\n",
    "TimeVector = []\n",
    "for PointNumber in range(NpointsOfTest):\n",
    "    StartTime = time.time()\n",
    "    MatchedPoint.append(BruteForceSearch(DataFrame, PointsOfTest.loc[PointNumber,['x1', 'x2', 'x3']]))\n",
    "    TimeVector.append(time.time() - StartTime)\n",
    "    \n",
    "TimeDataFrame = pd.DataFrame(TimeVector, columns = ['TempoBruteForce'])\n",
    "PointFound = pd.DataFrame(MatchedPoint, columns = ['BruteForcePoint'])"
   ]
  },
  {
   "cell_type": "code",
   "execution_count": 15,
   "metadata": {},
   "outputs": [],
   "source": [
    "MatchedPoint = []\n",
    "TimeVector = []\n",
    "for PointNumber in range(NpointsOfTest):\n",
    "    StartTime = time.time()\n",
    "    TestPoint = np.array(PointsOfTest.loc[PointNumber,['x1', 'x2', 'x3']]).reshape(1, -1)\n",
    "    ClusterFound = kmeans.predict(TestPoint)[0]\n",
    "    MatchedPoint.append(BruteForceSearch(DataFrame[DataFrame['KMeans'] == ClusterFound].reset_index(drop = True), TestPoint.reshape(-1)))\n",
    "    TimeVector.append(time.time() - StartTime)\n",
    "    \n",
    "TimeDataFrame['TempoCluster'] = TimeVector\n",
    "PointFound['ClusterPoint'] = MatchedPoint"
   ]
  },
  {
   "cell_type": "code",
   "execution_count": 16,
   "metadata": {},
   "outputs": [
    {
     "data": {
      "text/html": [
       "<div>\n",
       "<style scoped>\n",
       "    .dataframe tbody tr th:only-of-type {\n",
       "        vertical-align: middle;\n",
       "    }\n",
       "\n",
       "    .dataframe tbody tr th {\n",
       "        vertical-align: top;\n",
       "    }\n",
       "\n",
       "    .dataframe thead th {\n",
       "        text-align: right;\n",
       "    }\n",
       "</style>\n",
       "<table border=\"1\" class=\"dataframe\">\n",
       "  <thead>\n",
       "    <tr style=\"text-align: right;\">\n",
       "      <th></th>\n",
       "      <th>count</th>\n",
       "      <th>mean</th>\n",
       "      <th>std</th>\n",
       "      <th>min</th>\n",
       "      <th>25%</th>\n",
       "      <th>50%</th>\n",
       "      <th>75%</th>\n",
       "      <th>max</th>\n",
       "    </tr>\n",
       "  </thead>\n",
       "  <tbody>\n",
       "    <tr>\n",
       "      <th>TempoBruteForce</th>\n",
       "      <td>10.0</td>\n",
       "      <td>8.093645</td>\n",
       "      <td>0.479368</td>\n",
       "      <td>7.492295</td>\n",
       "      <td>7.731150</td>\n",
       "      <td>8.017166</td>\n",
       "      <td>8.358777</td>\n",
       "      <td>8.887616</td>\n",
       "    </tr>\n",
       "    <tr>\n",
       "      <th>TempoCluster</th>\n",
       "      <td>10.0</td>\n",
       "      <td>2.311183</td>\n",
       "      <td>0.779448</td>\n",
       "      <td>1.455678</td>\n",
       "      <td>1.548622</td>\n",
       "      <td>2.174803</td>\n",
       "      <td>3.039249</td>\n",
       "      <td>3.316097</td>\n",
       "    </tr>\n",
       "  </tbody>\n",
       "</table>\n",
       "</div>"
      ],
      "text/plain": [
       "                 count      mean       std       min       25%       50%  \\\n",
       "TempoBruteForce   10.0  8.093645  0.479368  7.492295  7.731150  8.017166   \n",
       "TempoCluster      10.0  2.311183  0.779448  1.455678  1.548622  2.174803   \n",
       "\n",
       "                      75%       max  \n",
       "TempoBruteForce  8.358777  8.887616  \n",
       "TempoCluster     3.039249  3.316097  "
      ]
     },
     "execution_count": 16,
     "metadata": {},
     "output_type": "execute_result"
    }
   ],
   "source": [
    "TimeDataFrame.describe().transpose()"
   ]
  },
  {
   "cell_type": "code",
   "execution_count": 17,
   "metadata": {},
   "outputs": [
    {
     "data": {
      "text/html": [
       "<div>\n",
       "<style scoped>\n",
       "    .dataframe tbody tr th:only-of-type {\n",
       "        vertical-align: middle;\n",
       "    }\n",
       "\n",
       "    .dataframe tbody tr th {\n",
       "        vertical-align: top;\n",
       "    }\n",
       "\n",
       "    .dataframe thead th {\n",
       "        text-align: right;\n",
       "    }\n",
       "</style>\n",
       "<table border=\"1\" class=\"dataframe\">\n",
       "  <thead>\n",
       "    <tr style=\"text-align: right;\">\n",
       "      <th></th>\n",
       "      <th>BruteForcePoint</th>\n",
       "      <th>ClusterPoint</th>\n",
       "    </tr>\n",
       "  </thead>\n",
       "  <tbody>\n",
       "    <tr>\n",
       "      <th>0</th>\n",
       "      <td>p5069</td>\n",
       "      <td>p5069</td>\n",
       "    </tr>\n",
       "    <tr>\n",
       "      <th>1</th>\n",
       "      <td>p6162</td>\n",
       "      <td>p6162</td>\n",
       "    </tr>\n",
       "    <tr>\n",
       "      <th>2</th>\n",
       "      <td>p2562</td>\n",
       "      <td>p2562</td>\n",
       "    </tr>\n",
       "    <tr>\n",
       "      <th>3</th>\n",
       "      <td>p4458</td>\n",
       "      <td>p4458</td>\n",
       "    </tr>\n",
       "    <tr>\n",
       "      <th>4</th>\n",
       "      <td>p3131</td>\n",
       "      <td>p3131</td>\n",
       "    </tr>\n",
       "    <tr>\n",
       "      <th>5</th>\n",
       "      <td>p1620</td>\n",
       "      <td>p1620</td>\n",
       "    </tr>\n",
       "    <tr>\n",
       "      <th>6</th>\n",
       "      <td>p1316</td>\n",
       "      <td>p1316</td>\n",
       "    </tr>\n",
       "    <tr>\n",
       "      <th>7</th>\n",
       "      <td>p5301</td>\n",
       "      <td>p5301</td>\n",
       "    </tr>\n",
       "    <tr>\n",
       "      <th>8</th>\n",
       "      <td>p6658</td>\n",
       "      <td>p6658</td>\n",
       "    </tr>\n",
       "    <tr>\n",
       "      <th>9</th>\n",
       "      <td>p2299</td>\n",
       "      <td>p2299</td>\n",
       "    </tr>\n",
       "  </tbody>\n",
       "</table>\n",
       "</div>"
      ],
      "text/plain": [
       "  BruteForcePoint ClusterPoint\n",
       "0           p5069        p5069\n",
       "1           p6162        p6162\n",
       "2           p2562        p2562\n",
       "3           p4458        p4458\n",
       "4           p3131        p3131\n",
       "5           p1620        p1620\n",
       "6           p1316        p1316\n",
       "7           p5301        p5301\n",
       "8           p6658        p6658\n",
       "9           p2299        p2299"
      ]
     },
     "execution_count": 17,
     "metadata": {},
     "output_type": "execute_result"
    }
   ],
   "source": [
    "PointFound"
   ]
  },
  {
   "cell_type": "code",
   "execution_count": null,
   "metadata": {},
   "outputs": [],
   "source": []
  }
 ],
 "metadata": {
  "kernelspec": {
   "display_name": "Python 3",
   "language": "python",
   "name": "python3"
  },
  "language_info": {
   "codemirror_mode": {
    "name": "ipython",
    "version": 3
   },
   "file_extension": ".py",
   "mimetype": "text/x-python",
   "name": "python",
   "nbconvert_exporter": "python",
   "pygments_lexer": "ipython3",
   "version": "3.8.5"
  }
 },
 "nbformat": 4,
 "nbformat_minor": 4
}
