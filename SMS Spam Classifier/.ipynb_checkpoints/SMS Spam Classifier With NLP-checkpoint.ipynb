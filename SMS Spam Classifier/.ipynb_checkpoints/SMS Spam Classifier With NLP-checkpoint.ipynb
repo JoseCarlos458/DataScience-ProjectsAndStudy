{
 "cells": [
  {
   "cell_type": "code",
   "execution_count": 1,
   "metadata": {
    "scrolled": true
   },
   "outputs": [
    {
     "name": "stderr",
     "output_type": "stream",
     "text": [
      "[nltk_data] Downloading package stopwords to\n",
      "[nltk_data]     C:\\Users\\eduar\\AppData\\Roaming\\nltk_data...\n",
      "[nltk_data]   Package stopwords is already up-to-date!\n",
      "Using TensorFlow backend.\n",
      "C:\\Users\\eduar\\anaconda3\\envs\\tf_gpu\\lib\\site-packages\\tensorflow\\python\\framework\\dtypes.py:516: FutureWarning: Passing (type, 1) or '1type' as a synonym of type is deprecated; in a future version of numpy, it will be understood as (type, (1,)) / '(1,)type'.\n",
      "  _np_qint8 = np.dtype([(\"qint8\", np.int8, 1)])\n",
      "C:\\Users\\eduar\\anaconda3\\envs\\tf_gpu\\lib\\site-packages\\tensorflow\\python\\framework\\dtypes.py:517: FutureWarning: Passing (type, 1) or '1type' as a synonym of type is deprecated; in a future version of numpy, it will be understood as (type, (1,)) / '(1,)type'.\n",
      "  _np_quint8 = np.dtype([(\"quint8\", np.uint8, 1)])\n",
      "C:\\Users\\eduar\\anaconda3\\envs\\tf_gpu\\lib\\site-packages\\tensorflow\\python\\framework\\dtypes.py:518: FutureWarning: Passing (type, 1) or '1type' as a synonym of type is deprecated; in a future version of numpy, it will be understood as (type, (1,)) / '(1,)type'.\n",
      "  _np_qint16 = np.dtype([(\"qint16\", np.int16, 1)])\n",
      "C:\\Users\\eduar\\anaconda3\\envs\\tf_gpu\\lib\\site-packages\\tensorflow\\python\\framework\\dtypes.py:519: FutureWarning: Passing (type, 1) or '1type' as a synonym of type is deprecated; in a future version of numpy, it will be understood as (type, (1,)) / '(1,)type'.\n",
      "  _np_quint16 = np.dtype([(\"quint16\", np.uint16, 1)])\n",
      "C:\\Users\\eduar\\anaconda3\\envs\\tf_gpu\\lib\\site-packages\\tensorflow\\python\\framework\\dtypes.py:520: FutureWarning: Passing (type, 1) or '1type' as a synonym of type is deprecated; in a future version of numpy, it will be understood as (type, (1,)) / '(1,)type'.\n",
      "  _np_qint32 = np.dtype([(\"qint32\", np.int32, 1)])\n",
      "C:\\Users\\eduar\\anaconda3\\envs\\tf_gpu\\lib\\site-packages\\tensorflow\\python\\framework\\dtypes.py:525: FutureWarning: Passing (type, 1) or '1type' as a synonym of type is deprecated; in a future version of numpy, it will be understood as (type, (1,)) / '(1,)type'.\n",
      "  np_resource = np.dtype([(\"resource\", np.ubyte, 1)])\n"
     ]
    }
   ],
   "source": [
    "import pandas as pd\n",
    "import numpy as np\n",
    "\n",
    "from tqdm import tqdm\n",
    "\n",
    "import nltk\n",
    "nltk.download('stopwords')\n",
    "from nltk.corpus import stopwords\n",
    "from nltk.stem.porter import PorterStemmer\n",
    "\n",
    "from sklearn.feature_extraction.text import CountVectorizer \n",
    "from sklearn.preprocessing import LabelEncoder\n",
    "\n",
    "from sklearn.model_selection import KFold\n",
    "from sklearn import tree\n",
    "from sklearn.utils import class_weight\n",
    "\n",
    "from sklearn.metrics import accuracy_score\n",
    "from sklearn.metrics import f1_score\n",
    "from sklearn.metrics import precision_score\n",
    "from sklearn.metrics import recall_score\n",
    "\n",
    "import seaborn as sns\n",
    "\n",
    "import re\n",
    "\n",
    "import matplotlib.pyplot as plt\n",
    "import plotly.express as px\n",
    "\n",
    "from sklearn.decomposition import PCA\n",
    "from sklearn.manifold import TSNE\n",
    "\n",
    "\n",
    "import keras\n",
    "from keras.models import Sequential\n",
    "from keras.layers import Dense\n"
   ]
  },
  {
   "cell_type": "code",
   "execution_count": 2,
   "metadata": {},
   "outputs": [],
   "source": [
    "df = pd.read_csv('spam.csv', encoding = 'latin-1')\n",
    "df = df.drop(['Unnamed: 2', 'Unnamed: 3', 'Unnamed: 4'], axis = 1)"
   ]
  },
  {
   "cell_type": "code",
   "execution_count": 3,
   "metadata": {},
   "outputs": [
    {
     "data": {
      "image/png": "[encoded data removed]",
      "text/plain": [
       "<Figure size 432x288 with 1 Axes>"
      ]
     },
     "metadata": {
      "needs_background": "light"
     },
     "output_type": "display_data"
    }
   ],
   "source": [
    "# Check output class distribution\n",
    "ax = sns.countplot(df['v1'], label=\"Count\")"
   ]
  },
  {
   "cell_type": "code",
   "execution_count": 4,
   "metadata": {},
   "outputs": [],
   "source": [
    "# Add word count column\n",
    "WordCount = []\n",
    "for i in range(len(df)):\n",
    "    WordCount.append(len(df['v2'][i]))\n",
    "    \n",
    "df['WordCount'] = WordCount"
   ]
  },
  {
   "cell_type": "code",
   "execution_count": 5,
   "metadata": {},
   "outputs": [
    {
     "data": {
      "text/plain": [
       "(-50.0, 300.0)"
      ]
     },
     "execution_count": 5,
     "metadata": {},
     "output_type": "execute_result"
    },
    {
     "data": {
      "image/png": "[encoded data removed]",
      "text/plain": [
       "<Figure size 432x288 with 1 Axes>"
      ]
     },
     "metadata": {
      "needs_background": "light"
     },
     "output_type": "display_data"
    }
   ],
   "source": [
    "df_plot = df[df['v1'] == 'ham']\n",
    "sns.distplot(df_plot['WordCount'], hist = False, kde = True, label='ham')\n",
    "\n",
    "df_plot = df[df['v1'] == 'spam']\n",
    "sns.distplot(df_plot['WordCount'], hist = False, kde = True, label='spam')\n",
    "\n",
    "# Plot formatting\n",
    "plt.legend(prop={'size': 12})\n",
    "plt.title('Ham/Spam Density')\n",
    "plt.xlabel('Word Count')\n",
    "plt.ylabel('Density')  \n",
    "plt.xlim([-50, 300])"
   ]
  },
  {
   "cell_type": "code",
   "execution_count": 6,
   "metadata": {},
   "outputs": [
    {
     "name": "stderr",
     "output_type": "stream",
     "text": [
      "100%|█████████████████████████████████████████████████████████████████████████████| 5572/5572 [00:24<00:00, 226.96it/s]\n"
     ]
    }
   ],
   "source": [
    "Processed = []\n",
    "ps = PorterStemmer()\n",
    "\n",
    "for i in tqdm(range(len(df))):\n",
    "    msg = df['v2'][i]\n",
    "    '''\n",
    "    msg = re.sub('\\b[\\w\\-.]+?@\\w+?\\.\\w{2,4}\\b', 'emailaddr', df['v2'][i])\n",
    "    msg = re.sub('(http[s]?\\S+)|(\\w+\\.[A-Za-z]{2,4}\\S*)', 'httpaddr', df['v2'][i])\n",
    "    msg = re.sub('£|\\$', 'moneysymb', df['v2'][i])\n",
    "    msg = re.sub('\\b(\\+\\d{1,2}\\s)?\\d?[\\-(.]?\\d{3}\\)?[\\s.-]?\\d{3}[\\s.-]?\\d{4}\\b', 'phonenumbr', df['v2'][i])\n",
    "    msg = re.sub('\\d+(\\.\\d+)?', 'numbr', df['v2'][i])\n",
    "\n",
    "    msg = re.sub('[^\\w\\d\\s]', ' ', df['v2'][i])\n",
    "    '''\n",
    "    msg = msg.lower()    \n",
    "    \n",
    "    msg = msg.split()    \n",
    "    \n",
    "    msg = [ps.stem(word) for word in msg if not word in set(stopwords.words('english'))]\n",
    "\n",
    "    msg = ' '.join(msg)\n",
    "    \n",
    "    Processed.append(msg)"
   ]
  },
  {
   "cell_type": "code",
   "execution_count": 7,
   "metadata": {},
   "outputs": [
    {
     "name": "stdout",
     "output_type": "stream",
     "text": [
      "x.shape: (5572, 7213) \n",
      "y.shape: (5572,)\n",
      "x.shape: (5572, 7214) \n",
      "y.shape: (5572,)\n"
     ]
    }
   ],
   "source": [
    "cv = CountVectorizer()\n",
    "X, y = cv.fit_transform(Processed).toarray(), np.array(df['v1'].replace({'ham': 0, 'spam': 1}))\n",
    "print('x.shape:', X.shape, '\\ny.shape:', y.shape)\n",
    "\n",
    "X = np.hstack((X,np.array(df['WordCount']).reshape(-1,1)))\n",
    "print('x.shape:', X.shape, '\\ny.shape:', y.shape)"
   ]
  },
  {
   "cell_type": "code",
   "execution_count": 8,
   "metadata": {},
   "outputs": [
    {
     "name": "stdout",
     "output_type": "stream",
     "text": [
      "KFold(n_splits=10, random_state=None, shuffle=True)\n"
     ]
    },
    {
     "name": "stderr",
     "output_type": "stream",
     "text": [
      "10it [01:02,  6.26s/it]"
     ]
    },
    {
     "name": "stdout",
     "output_type": "stream",
     "text": [
      "\n",
      " Predict test results:\n",
      "   Accuracy        F1  Precision    Recall\n",
      "0  0.964158  0.843750   0.818182  0.870968\n",
      "1  0.962366  0.853147   0.835616  0.871429\n",
      "2  0.956912  0.844156   0.792683  0.902778\n",
      "3  0.962298  0.883978   0.851064  0.919540\n",
      "4  0.976661  0.897638   0.876923  0.919355\n",
      "5  0.960503  0.867470   0.791209  0.960000\n",
      "6  0.958707  0.860606   0.835294  0.887500\n",
      "7  0.965889  0.870748   0.853333  0.888889\n",
      "8  0.953321  0.864583   0.855670  0.873684\n",
      "9  0.960503  0.847222   0.847222  0.847222\n",
      "\n",
      " Predict test statistics:\n",
      "           count      mean       std       min       50%       90%       max\n",
      "Accuracy    10.0  0.962132  0.006248  0.953321  0.961400  0.966966  0.976661\n",
      "F1          10.0  0.863330  0.017634  0.843750  0.862595  0.885344  0.897638\n",
      "Precision   10.0  0.835720  0.027719  0.791209  0.841419  0.857795  0.876923\n",
      "Recall      10.0  0.894136  0.032382  0.847222  0.888194  0.923586  0.960000\n"
     ]
    },
    {
     "name": "stderr",
     "output_type": "stream",
     "text": [
      "\n"
     ]
    }
   ],
   "source": [
    "kf = KFold(n_splits=10, shuffle = True)\n",
    "kf.get_n_splits(X)\n",
    "\n",
    "print(kf)\n",
    "\n",
    "Metrics = []\n",
    "\n",
    "Classifier = []\n",
    "\n",
    "for train_index, test_index in tqdm(kf.split(X)):\n",
    "    X_train, X_test = X[train_index], X[test_index]\n",
    "    y_train, y_test = y[train_index], y[test_index]\n",
    "    \n",
    "    clf = tree.DecisionTreeClassifier(class_weight = 'balanced')\n",
    "    clf = clf.fit(X_train, y_train)\n",
    "    \n",
    "    y_pred = clf.predict(X_test)\n",
    "    \n",
    "    SubMetric = dict()\n",
    "    \n",
    "    SubMetric['Accuracy'] = accuracy_score(y_test, y_pred)\n",
    "    SubMetric['F1'] = f1_score(y_test, y_pred)\n",
    "    SubMetric['Precision'] = precision_score(y_test, y_pred)\n",
    "    SubMetric['Recall'] = recall_score(y_test, y_pred)\n",
    "    \n",
    "    Metrics.append(SubMetric)\n",
    "    Classifier.append(clf)\n",
    "    \n",
    "Metrics = pd.DataFrame.from_dict(Metrics)\n",
    "\n",
    "print('\\n Predict test results:')\n",
    "print(Metrics)\n",
    "\n",
    "print('\\n Predict test statistics:')\n",
    "print(Metrics.describe([.5, .9]).transpose())"
   ]
  },
  {
   "cell_type": "code",
   "execution_count": 23,
   "metadata": {},
   "outputs": [
    {
     "name": "stderr",
     "output_type": "stream",
     "text": [
      "C:\\Users\\eduar\\anaconda3\\envs\\tf_gpu\\lib\\site-packages\\sklearn\\utils\\validation.py:71: FutureWarning: Pass classes=[0 1], y=[0 0 1 ... 0 0 0] as keyword args. From version 0.25 passing these as positional arguments will result in an error\n",
      "  FutureWarning)\n"
     ]
    }
   ],
   "source": [
    "class_weight = class_weight.compute_class_weight('balanced', np.unique(y), y)"
   ]
  },
  {
   "cell_type": "code",
   "execution_count": 25,
   "metadata": {},
   "outputs": [
    {
     "name": "stderr",
     "output_type": "stream",
     "text": [
      "\r",
      "0it [00:00, ?it/s]"
     ]
    },
    {
     "name": "stdout",
     "output_type": "stream",
     "text": [
      "KFold(n_splits=10, random_state=None, shuffle=True)\n",
      "Train on 5014 samples, validate on 558 samples\n",
      "Epoch 1/9999\n",
      " - 1s - loss: 0.5198 - accuracy: 0.8237 - val_loss: 0.3210 - val_accuracy: 0.9068\n",
      "Epoch 2/9999\n",
      " - 1s - loss: 0.2037 - accuracy: 0.9615 - val_loss: 0.1023 - val_accuracy: 0.9857\n",
      "Epoch 3/9999\n",
      " - 1s - loss: 0.0783 - accuracy: 0.9884 - val_loss: 0.0515 - val_accuracy: 0.9892\n",
      "Epoch 4/9999\n",
      " - 1s - loss: 0.0416 - accuracy: 0.9930 - val_loss: 0.0361 - val_accuracy: 0.9892\n",
      "Epoch 5/9999\n",
      " - 1s - loss: 0.0262 - accuracy: 0.9958 - val_loss: 0.0294 - val_accuracy: 0.9892\n",
      "Epoch 6/9999\n",
      " - 1s - loss: 0.0177 - accuracy: 0.9974 - val_loss: 0.0258 - val_accuracy: 0.9892\n",
      "Epoch 7/9999\n",
      " - 1s - loss: 0.0132 - accuracy: 0.9982 - val_loss: 0.0287 - val_accuracy: 0.9892\n",
      "Epoch 8/9999\n",
      " - 1s - loss: 0.0100 - accuracy: 0.9988 - val_loss: 0.0251 - val_accuracy: 0.9892\n",
      "Epoch 9/9999\n",
      " - 1s - loss: 0.0081 - accuracy: 0.9990 - val_loss: 0.0249 - val_accuracy: 0.9892\n",
      "Epoch 10/9999\n",
      " - 1s - loss: 0.0066 - accuracy: 0.9990 - val_loss: 0.0230 - val_accuracy: 0.9892\n",
      "Epoch 11/9999\n",
      " - 1s - loss: 0.0055 - accuracy: 0.9992 - val_loss: 0.0227 - val_accuracy: 0.9892\n",
      "Epoch 12/9999\n",
      " - 1s - loss: 0.0047 - accuracy: 0.9992 - val_loss: 0.0282 - val_accuracy: 0.9892\n",
      "Epoch 13/9999\n",
      " - 1s - loss: 0.0042 - accuracy: 0.9992 - val_loss: 0.0242 - val_accuracy: 0.9892\n",
      "Epoch 14/9999\n",
      " - 1s - loss: 0.0034 - accuracy: 0.9994 - val_loss: 0.0218 - val_accuracy: 0.9910\n",
      "Epoch 15/9999\n",
      " - 1s - loss: 0.0031 - accuracy: 0.9994 - val_loss: 0.0257 - val_accuracy: 0.9892\n",
      "Epoch 16/9999\n",
      " - 1s - loss: 0.0026 - accuracy: 0.9996 - val_loss: 0.0228 - val_accuracy: 0.9910\n",
      "Epoch 17/9999\n",
      " - 1s - loss: 0.0023 - accuracy: 0.9996 - val_loss: 0.0311 - val_accuracy: 0.9910\n",
      "Epoch 18/9999\n",
      " - 1s - loss: 0.0020 - accuracy: 0.9998 - val_loss: 0.0295 - val_accuracy: 0.9910\n",
      "Epoch 19/9999\n",
      " - 1s - loss: 0.0018 - accuracy: 0.9998 - val_loss: 0.0231 - val_accuracy: 0.9910\n"
     ]
    },
    {
     "name": "stderr",
     "output_type": "stream",
     "text": [
      "\r",
      "1it [00:14, 14.30s/it]"
     ]
    },
    {
     "name": "stdout",
     "output_type": "stream",
     "text": [
      "Train on 5014 samples, validate on 558 samples\n",
      "Epoch 1/9999\n",
      " - 1s - loss: 0.4906 - accuracy: 0.8584 - val_loss: 0.3283 - val_accuracy: 0.9014\n",
      "Epoch 2/9999\n",
      " - 1s - loss: 0.2056 - accuracy: 0.9637 - val_loss: 0.1249 - val_accuracy: 0.9821\n",
      "Epoch 3/9999\n",
      " - 1s - loss: 0.0820 - accuracy: 0.9896 - val_loss: 0.0899 - val_accuracy: 0.9803\n",
      "Epoch 4/9999\n",
      " - 1s - loss: 0.0445 - accuracy: 0.9934 - val_loss: 0.0551 - val_accuracy: 0.9892\n",
      "Epoch 5/9999\n",
      " - 1s - loss: 0.0275 - accuracy: 0.9958 - val_loss: 0.0426 - val_accuracy: 0.9928\n",
      "Epoch 6/9999\n",
      " - 1s - loss: 0.0188 - accuracy: 0.9976 - val_loss: 0.0494 - val_accuracy: 0.9857\n",
      "Epoch 7/9999\n",
      " - 1s - loss: 0.0138 - accuracy: 0.9978 - val_loss: 0.0373 - val_accuracy: 0.9928\n",
      "Epoch 8/9999\n",
      " - 1s - loss: 0.0103 - accuracy: 0.9986 - val_loss: 0.0372 - val_accuracy: 0.9928\n",
      "Epoch 9/9999\n",
      " - 1s - loss: 0.0084 - accuracy: 0.9986 - val_loss: 0.0345 - val_accuracy: 0.9928\n",
      "Epoch 10/9999\n",
      " - 1s - loss: 0.0069 - accuracy: 0.9990 - val_loss: 0.0416 - val_accuracy: 0.9928\n",
      "Epoch 11/9999\n",
      " - 1s - loss: 0.0056 - accuracy: 0.9990 - val_loss: 0.0445 - val_accuracy: 0.9928\n",
      "Epoch 12/9999\n",
      " - 1s - loss: 0.0046 - accuracy: 0.9990 - val_loss: 0.0266 - val_accuracy: 0.9928\n",
      "Epoch 13/9999\n",
      " - 1s - loss: 0.0042 - accuracy: 0.9992 - val_loss: 0.0475 - val_accuracy: 0.9892\n",
      "Epoch 14/9999\n",
      " - 1s - loss: 0.0034 - accuracy: 0.9994 - val_loss: 0.0420 - val_accuracy: 0.9928\n",
      "Epoch 15/9999\n",
      " - 1s - loss: 0.0029 - accuracy: 0.9994 - val_loss: 0.0430 - val_accuracy: 0.9910\n",
      "Epoch 16/9999\n",
      " - 1s - loss: 0.0026 - accuracy: 0.9994 - val_loss: 0.0404 - val_accuracy: 0.9928\n",
      "Epoch 17/9999\n",
      " - 1s - loss: 0.0022 - accuracy: 0.9998 - val_loss: 0.0468 - val_accuracy: 0.9910\n"
     ]
    },
    {
     "name": "stderr",
     "output_type": "stream",
     "text": [
      "\r",
      "2it [00:27, 13.97s/it]"
     ]
    },
    {
     "name": "stdout",
     "output_type": "stream",
     "text": [
      "Train on 5015 samples, validate on 557 samples\n",
      "Epoch 1/9999\n",
      " - 1s - loss: 0.4297 - accuracy: 0.8907 - val_loss: 0.2260 - val_accuracy: 0.9587\n",
      "Epoch 2/9999\n",
      " - 1s - loss: 0.1375 - accuracy: 0.9783 - val_loss: 0.0870 - val_accuracy: 0.9928\n",
      "Epoch 3/9999\n",
      " - 1s - loss: 0.0557 - accuracy: 0.9908 - val_loss: 0.0453 - val_accuracy: 0.9892\n",
      "Epoch 4/9999\n",
      " - 1s - loss: 0.0309 - accuracy: 0.9950 - val_loss: 0.0408 - val_accuracy: 0.9946\n",
      "Epoch 5/9999\n",
      " - 1s - loss: 0.0199 - accuracy: 0.9972 - val_loss: 0.0325 - val_accuracy: 0.9892\n",
      "Epoch 6/9999\n",
      " - 1s - loss: 0.0135 - accuracy: 0.9980 - val_loss: 0.0257 - val_accuracy: 0.9946\n",
      "Epoch 7/9999\n",
      " - 1s - loss: 0.0096 - accuracy: 0.9984 - val_loss: 0.0242 - val_accuracy: 0.9946\n",
      "Epoch 8/9999\n",
      " - 1s - loss: 0.0076 - accuracy: 0.9988 - val_loss: 0.0234 - val_accuracy: 0.9946\n",
      "Epoch 9/9999\n",
      " - 1s - loss: 0.0060 - accuracy: 0.9990 - val_loss: 0.0233 - val_accuracy: 0.9946\n",
      "Epoch 10/9999\n",
      " - 1s - loss: 0.0049 - accuracy: 0.9992 - val_loss: 0.0259 - val_accuracy: 0.9928\n",
      "Epoch 11/9999\n",
      " - 1s - loss: 0.0040 - accuracy: 0.9992 - val_loss: 0.0228 - val_accuracy: 0.9946\n",
      "Epoch 12/9999\n",
      " - 1s - loss: 0.0034 - accuracy: 0.9994 - val_loss: 0.0266 - val_accuracy: 0.9928\n",
      "Epoch 13/9999\n",
      " - 1s - loss: 0.0028 - accuracy: 0.9994 - val_loss: 0.0295 - val_accuracy: 0.9910\n",
      "Epoch 14/9999\n",
      " - 1s - loss: 0.0025 - accuracy: 0.9996 - val_loss: 0.0257 - val_accuracy: 0.9928\n",
      "Epoch 15/9999\n",
      " - 1s - loss: 0.0021 - accuracy: 0.9996 - val_loss: 0.0303 - val_accuracy: 0.9910\n",
      "Epoch 16/9999\n",
      " - 1s - loss: 0.0018 - accuracy: 0.9998 - val_loss: 0.0248 - val_accuracy: 0.9946\n"
     ]
    },
    {
     "name": "stderr",
     "output_type": "stream",
     "text": [
      "\r",
      "3it [00:40, 13.66s/it]"
     ]
    },
    {
     "name": "stdout",
     "output_type": "stream",
     "text": [
      "Train on 5015 samples, validate on 557 samples\n",
      "Epoch 1/9999\n",
      " - 1s - loss: 0.6751 - accuracy: 0.7456 - val_loss: 0.5430 - val_accuracy: 0.8564\n",
      "Epoch 2/9999\n",
      " - 1s - loss: 0.4548 - accuracy: 0.8724 - val_loss: 0.3823 - val_accuracy: 0.9066\n",
      "Epoch 3/9999\n",
      " - 1s - loss: 0.2241 - accuracy: 0.9627 - val_loss: 0.1710 - val_accuracy: 0.9677\n",
      "Epoch 4/9999\n",
      " - 1s - loss: 0.0890 - accuracy: 0.9888 - val_loss: 0.1192 - val_accuracy: 0.9731\n",
      "Epoch 5/9999\n",
      " - 1s - loss: 0.0516 - accuracy: 0.9936 - val_loss: 0.1062 - val_accuracy: 0.9713\n",
      "Epoch 6/9999\n",
      " - 1s - loss: 0.0332 - accuracy: 0.9962 - val_loss: 0.0755 - val_accuracy: 0.9803\n",
      "Epoch 7/9999\n",
      " - 1s - loss: 0.0238 - accuracy: 0.9976 - val_loss: 0.0856 - val_accuracy: 0.9767\n",
      "Epoch 8/9999\n",
      " - 1s - loss: 0.0178 - accuracy: 0.9978 - val_loss: 0.0827 - val_accuracy: 0.9767\n",
      "Epoch 9/9999\n",
      " - 1s - loss: 0.0136 - accuracy: 0.9982 - val_loss: 0.0802 - val_accuracy: 0.9785\n",
      "Epoch 10/9999\n",
      " - 1s - loss: 0.0109 - accuracy: 0.9988 - val_loss: 0.0736 - val_accuracy: 0.9785\n",
      "Epoch 11/9999\n",
      " - 1s - loss: 0.0090 - accuracy: 0.9990 - val_loss: 0.0573 - val_accuracy: 0.9856\n",
      "Epoch 12/9999\n",
      " - 1s - loss: 0.0076 - accuracy: 0.9990 - val_loss: 0.0746 - val_accuracy: 0.9785\n",
      "Epoch 13/9999\n",
      " - 1s - loss: 0.0063 - accuracy: 0.9990 - val_loss: 0.0602 - val_accuracy: 0.9838\n",
      "Epoch 14/9999\n",
      " - 1s - loss: 0.0055 - accuracy: 0.9994 - val_loss: 0.0894 - val_accuracy: 0.9767\n",
      "Epoch 15/9999\n",
      " - 1s - loss: 0.0048 - accuracy: 0.9990 - val_loss: 0.0589 - val_accuracy: 0.9838\n",
      "Epoch 16/9999\n",
      " - 1s - loss: 0.0042 - accuracy: 0.9994 - val_loss: 0.0884 - val_accuracy: 0.9767\n"
     ]
    },
    {
     "name": "stderr",
     "output_type": "stream",
     "text": [
      "\r",
      "4it [00:54, 13.70s/it]"
     ]
    },
    {
     "name": "stdout",
     "output_type": "stream",
     "text": [
      "Train on 5015 samples, validate on 557 samples\n",
      "Epoch 1/9999\n",
      " - 1s - loss: 0.4940 - accuracy: 0.8449 - val_loss: 0.3587 - val_accuracy: 0.8815\n",
      "Epoch 2/9999\n",
      " - 1s - loss: 0.2198 - accuracy: 0.9581 - val_loss: 0.1512 - val_accuracy: 0.9695\n",
      "Epoch 3/9999\n",
      " - 1s - loss: 0.0846 - accuracy: 0.9876 - val_loss: 0.1040 - val_accuracy: 0.9695\n",
      "Epoch 4/9999\n",
      " - 1s - loss: 0.0435 - accuracy: 0.9926 - val_loss: 0.0665 - val_accuracy: 0.9838\n",
      "Epoch 5/9999\n",
      " - 1s - loss: 0.0270 - accuracy: 0.9958 - val_loss: 0.0897 - val_accuracy: 0.9695\n",
      "Epoch 6/9999\n",
      " - 1s - loss: 0.0193 - accuracy: 0.9970 - val_loss: 0.0478 - val_accuracy: 0.9892\n",
      "Epoch 7/9999\n",
      " - 1s - loss: 0.0139 - accuracy: 0.9980 - val_loss: 0.0578 - val_accuracy: 0.9856\n",
      "Epoch 8/9999\n",
      " - 1s - loss: 0.0107 - accuracy: 0.9982 - val_loss: 0.0572 - val_accuracy: 0.9856\n",
      "Epoch 9/9999\n",
      " - 1s - loss: 0.0116 - accuracy: 0.9978 - val_loss: 0.0917 - val_accuracy: 0.9713\n",
      "Epoch 10/9999\n",
      " - 1s - loss: 0.0078 - accuracy: 0.9990 - val_loss: 0.0464 - val_accuracy: 0.9874\n",
      "Epoch 11/9999\n",
      " - 1s - loss: 0.0059 - accuracy: 0.9990 - val_loss: 0.0548 - val_accuracy: 0.9874\n",
      "Epoch 12/9999\n",
      " - 1s - loss: 0.0051 - accuracy: 0.9992 - val_loss: 0.0454 - val_accuracy: 0.9874\n",
      "Epoch 13/9999\n",
      " - 1s - loss: 0.0044 - accuracy: 0.9992 - val_loss: 0.0523 - val_accuracy: 0.9874\n",
      "Epoch 14/9999\n",
      " - 1s - loss: 0.0038 - accuracy: 0.9992 - val_loss: 0.0526 - val_accuracy: 0.9874\n",
      "Epoch 15/9999\n",
      " - 1s - loss: 0.0033 - accuracy: 0.9992 - val_loss: 0.0661 - val_accuracy: 0.9838\n",
      "Epoch 16/9999\n",
      " - 1s - loss: 0.0029 - accuracy: 0.9996 - val_loss: 0.0453 - val_accuracy: 0.9856\n",
      "Epoch 17/9999\n",
      " - 1s - loss: 0.0026 - accuracy: 0.9996 - val_loss: 0.0408 - val_accuracy: 0.9856\n",
      "Epoch 18/9999\n",
      " - 1s - loss: 0.0023 - accuracy: 0.9996 - val_loss: 0.0619 - val_accuracy: 0.9838\n",
      "Epoch 19/9999\n",
      " - 1s - loss: 0.0021 - accuracy: 0.9998 - val_loss: 0.0459 - val_accuracy: 0.9856\n",
      "Epoch 20/9999\n",
      " - 1s - loss: 0.0019 - accuracy: 0.9998 - val_loss: 0.0456 - val_accuracy: 0.9856\n",
      "Epoch 21/9999\n",
      " - 1s - loss: 0.0017 - accuracy: 0.9998 - val_loss: 0.0561 - val_accuracy: 0.9838\n",
      "Epoch 22/9999\n",
      " - 1s - loss: 0.0016 - accuracy: 0.9998 - val_loss: 0.0710 - val_accuracy: 0.9785\n"
     ]
    },
    {
     "name": "stderr",
     "output_type": "stream",
     "text": [
      "\r",
      "5it [01:11, 14.68s/it]"
     ]
    },
    {
     "name": "stdout",
     "output_type": "stream",
     "text": [
      "Train on 5015 samples, validate on 557 samples\n",
      "Epoch 1/9999\n",
      " - 1s - loss: 0.5474 - accuracy: 0.8058 - val_loss: 0.3509 - val_accuracy: 0.9192\n",
      "Epoch 2/9999\n",
      " - 1s - loss: 0.2348 - accuracy: 0.9553 - val_loss: 0.1566 - val_accuracy: 0.9749\n",
      "Epoch 3/9999\n",
      " - 1s - loss: 0.0949 - accuracy: 0.9856 - val_loss: 0.0918 - val_accuracy: 0.9803\n",
      "Epoch 4/9999\n",
      " - 1s - loss: 0.0502 - accuracy: 0.9912 - val_loss: 0.0705 - val_accuracy: 0.9838\n",
      "Epoch 5/9999\n",
      " - 1s - loss: 0.0309 - accuracy: 0.9954 - val_loss: 0.0606 - val_accuracy: 0.9838\n",
      "Epoch 6/9999\n",
      " - 1s - loss: 0.0214 - accuracy: 0.9968 - val_loss: 0.0545 - val_accuracy: 0.9856\n",
      "Epoch 7/9999\n",
      " - 1s - loss: 0.0158 - accuracy: 0.9974 - val_loss: 0.0513 - val_accuracy: 0.9820\n",
      "Epoch 8/9999\n",
      " - 1s - loss: 0.0115 - accuracy: 0.9986 - val_loss: 0.0525 - val_accuracy: 0.9803\n",
      "Epoch 9/9999\n",
      " - 1s - loss: 0.0093 - accuracy: 0.9990 - val_loss: 0.0510 - val_accuracy: 0.9803\n",
      "Epoch 10/9999\n",
      " - 1s - loss: 0.0076 - accuracy: 0.9990 - val_loss: 0.0517 - val_accuracy: 0.9856\n",
      "Epoch 11/9999\n",
      " - 1s - loss: 0.0061 - accuracy: 0.9992 - val_loss: 0.0514 - val_accuracy: 0.9838\n",
      "Epoch 12/9999\n",
      " - 1s - loss: 0.0054 - accuracy: 0.9992 - val_loss: 0.0636 - val_accuracy: 0.9838\n",
      "Epoch 13/9999\n",
      " - 1s - loss: 0.0045 - accuracy: 0.9992 - val_loss: 0.0542 - val_accuracy: 0.9838\n",
      "Epoch 14/9999\n",
      " - 1s - loss: 0.0039 - accuracy: 0.9994 - val_loss: 0.0533 - val_accuracy: 0.9820\n"
     ]
    },
    {
     "name": "stderr",
     "output_type": "stream",
     "text": [
      "\r",
      "6it [01:24, 14.17s/it]"
     ]
    },
    {
     "name": "stdout",
     "output_type": "stream",
     "text": [
      "Train on 5015 samples, validate on 557 samples\n",
      "Epoch 1/9999\n",
      " - 1s - loss: 0.4638 - accuracy: 0.8796 - val_loss: 0.3239 - val_accuracy: 0.9084\n",
      "Epoch 2/9999\n",
      " - 1s - loss: 0.1874 - accuracy: 0.9663 - val_loss: 0.1339 - val_accuracy: 0.9803\n",
      "Epoch 3/9999\n",
      " - 1s - loss: 0.0718 - accuracy: 0.9898 - val_loss: 0.0764 - val_accuracy: 0.9785\n",
      "Epoch 4/9999\n",
      " - 1s - loss: 0.0397 - accuracy: 0.9928 - val_loss: 0.0536 - val_accuracy: 0.9820\n",
      "Epoch 5/9999\n",
      " - 1s - loss: 0.0245 - accuracy: 0.9964 - val_loss: 0.0431 - val_accuracy: 0.9892\n",
      "Epoch 6/9999\n",
      " - 1s - loss: 0.0171 - accuracy: 0.9976 - val_loss: 0.0376 - val_accuracy: 0.9874\n",
      "Epoch 7/9999\n",
      " - 1s - loss: 0.0125 - accuracy: 0.9978 - val_loss: 0.0342 - val_accuracy: 0.9874\n",
      "Epoch 8/9999\n",
      " - 1s - loss: 0.0096 - accuracy: 0.9986 - val_loss: 0.0324 - val_accuracy: 0.9910\n",
      "Epoch 9/9999\n",
      " - 1s - loss: 0.0074 - accuracy: 0.9988 - val_loss: 0.0305 - val_accuracy: 0.9910\n",
      "Epoch 10/9999\n",
      " - 1s - loss: 0.0060 - accuracy: 0.9990 - val_loss: 0.0304 - val_accuracy: 0.9910\n",
      "Epoch 11/9999\n",
      " - 1s - loss: 0.0051 - accuracy: 0.9992 - val_loss: 0.0306 - val_accuracy: 0.9892\n",
      "Epoch 12/9999\n",
      " - 1s - loss: 0.0041 - accuracy: 0.9992 - val_loss: 0.0288 - val_accuracy: 0.9910\n",
      "Epoch 13/9999\n",
      " - 1s - loss: 0.0038 - accuracy: 0.9994 - val_loss: 0.0297 - val_accuracy: 0.9892\n",
      "Epoch 14/9999\n",
      " - 1s - loss: 0.0031 - accuracy: 0.9994 - val_loss: 0.0326 - val_accuracy: 0.9856\n",
      "Epoch 15/9999\n",
      " - 1s - loss: 0.0028 - accuracy: 0.9994 - val_loss: 0.0307 - val_accuracy: 0.9892\n",
      "Epoch 16/9999\n",
      " - 1s - loss: 0.0024 - accuracy: 0.9994 - val_loss: 0.0319 - val_accuracy: 0.9892\n",
      "Epoch 17/9999\n",
      " - 1s - loss: 0.0021 - accuracy: 0.9996 - val_loss: 0.0307 - val_accuracy: 0.9892\n"
     ]
    },
    {
     "name": "stderr",
     "output_type": "stream",
     "text": [
      "\r",
      "7it [01:39, 14.43s/it]"
     ]
    },
    {
     "name": "stdout",
     "output_type": "stream",
     "text": [
      "Train on 5015 samples, validate on 557 samples\n",
      "Epoch 1/9999\n",
      " - 1s - loss: 0.4223 - accuracy: 0.8915 - val_loss: 0.2429 - val_accuracy: 0.9497\n",
      "Epoch 2/9999\n",
      " - 1s - loss: 0.1355 - accuracy: 0.9801 - val_loss: 0.1181 - val_accuracy: 0.9713\n",
      "Epoch 3/9999\n",
      " - 1s - loss: 0.0530 - accuracy: 0.9904 - val_loss: 0.0700 - val_accuracy: 0.9856\n",
      "Epoch 4/9999\n",
      " - 1s - loss: 0.0264 - accuracy: 0.9964 - val_loss: 0.0638 - val_accuracy: 0.9856\n",
      "Epoch 5/9999\n",
      " - 1s - loss: 0.0174 - accuracy: 0.9980 - val_loss: 0.0727 - val_accuracy: 0.9856\n",
      "Epoch 6/9999\n",
      " - 1s - loss: 0.0106 - accuracy: 0.9980 - val_loss: 0.0678 - val_accuracy: 0.9856\n",
      "Epoch 7/9999\n",
      " - 1s - loss: 0.0080 - accuracy: 0.9986 - val_loss: 0.0631 - val_accuracy: 0.9874\n",
      "Epoch 8/9999\n",
      " - 1s - loss: 0.0062 - accuracy: 0.9992 - val_loss: 0.0726 - val_accuracy: 0.9874\n",
      "Epoch 9/9999\n",
      " - 1s - loss: 0.0049 - accuracy: 0.9990 - val_loss: 0.0701 - val_accuracy: 0.9874\n",
      "Epoch 10/9999\n",
      " - 1s - loss: 0.0039 - accuracy: 0.9994 - val_loss: 0.0773 - val_accuracy: 0.9874\n",
      "Epoch 11/9999\n",
      " - 1s - loss: 0.0033 - accuracy: 0.9994 - val_loss: 0.0704 - val_accuracy: 0.9874\n",
      "Epoch 12/9999\n",
      " - 1s - loss: 0.0027 - accuracy: 0.9994 - val_loss: 0.0702 - val_accuracy: 0.9856\n"
     ]
    },
    {
     "name": "stderr",
     "output_type": "stream",
     "text": [
      "\r",
      "8it [01:51, 13.78s/it]"
     ]
    },
    {
     "name": "stdout",
     "output_type": "stream",
     "text": [
      "Train on 5015 samples, validate on 557 samples\n",
      "Epoch 1/9999\n",
      " - 1s - loss: 0.4404 - accuracy: 0.8841 - val_loss: 0.2504 - val_accuracy: 0.9264\n",
      "Epoch 2/9999\n",
      " - 1s - loss: 0.1334 - accuracy: 0.9773 - val_loss: 0.0798 - val_accuracy: 0.9892\n",
      "Epoch 3/9999\n",
      " - 1s - loss: 0.0472 - accuracy: 0.9910 - val_loss: 0.0599 - val_accuracy: 0.9820\n",
      "Epoch 4/9999\n",
      " - 1s - loss: 0.0237 - accuracy: 0.9958 - val_loss: 0.0670 - val_accuracy: 0.9785\n",
      "Epoch 5/9999\n",
      " - 1s - loss: 0.0149 - accuracy: 0.9972 - val_loss: 0.0435 - val_accuracy: 0.9946\n",
      "Epoch 6/9999\n",
      " - 1s - loss: 0.0097 - accuracy: 0.9988 - val_loss: 0.0417 - val_accuracy: 0.9946\n",
      "Epoch 7/9999\n",
      " - 1s - loss: 0.0063 - accuracy: 0.9992 - val_loss: 0.0411 - val_accuracy: 0.9946\n",
      "Epoch 8/9999\n",
      " - 1s - loss: 0.0047 - accuracy: 0.9994 - val_loss: 0.0419 - val_accuracy: 0.9946\n",
      "Epoch 9/9999\n",
      " - 1s - loss: 0.0036 - accuracy: 0.9996 - val_loss: 0.0461 - val_accuracy: 0.9946\n",
      "Epoch 10/9999\n",
      " - 1s - loss: 0.0030 - accuracy: 0.9998 - val_loss: 0.0451 - val_accuracy: 0.9946\n",
      "Epoch 11/9999\n",
      " - 1s - loss: 0.0025 - accuracy: 0.9998 - val_loss: 0.0442 - val_accuracy: 0.9946\n",
      "Epoch 12/9999\n",
      " - 1s - loss: 0.0021 - accuracy: 0.9998 - val_loss: 0.0511 - val_accuracy: 0.9910\n"
     ]
    },
    {
     "name": "stderr",
     "output_type": "stream",
     "text": [
      "\r",
      "9it [02:04, 13.60s/it]"
     ]
    },
    {
     "name": "stdout",
     "output_type": "stream",
     "text": [
      "Train on 5015 samples, validate on 557 samples\n",
      "Epoch 1/9999\n",
      " - 1s - loss: 0.4532 - accuracy: 0.8778 - val_loss: 0.2447 - val_accuracy: 0.9354\n",
      "Epoch 2/9999\n",
      " - 1s - loss: 0.1260 - accuracy: 0.9789 - val_loss: 0.0718 - val_accuracy: 0.9874\n",
      "Epoch 3/9999\n",
      " - 1s - loss: 0.0460 - accuracy: 0.9922 - val_loss: 0.0473 - val_accuracy: 0.9910\n",
      "Epoch 4/9999\n",
      " - 1s - loss: 0.0272 - accuracy: 0.9950 - val_loss: 0.0396 - val_accuracy: 0.9910\n",
      "Epoch 5/9999\n",
      " - 1s - loss: 0.0157 - accuracy: 0.9974 - val_loss: 0.0355 - val_accuracy: 0.9910\n",
      "Epoch 6/9999\n",
      " - 1s - loss: 0.0115 - accuracy: 0.9978 - val_loss: 0.0342 - val_accuracy: 0.9910\n",
      "Epoch 7/9999\n",
      " - 1s - loss: 0.0080 - accuracy: 0.9988 - val_loss: 0.0335 - val_accuracy: 0.9928\n",
      "Epoch 8/9999\n",
      " - 1s - loss: 0.0065 - accuracy: 0.9990 - val_loss: 0.0387 - val_accuracy: 0.9856\n",
      "Epoch 9/9999\n",
      " - 1s - loss: 0.0046 - accuracy: 0.9992 - val_loss: 0.0403 - val_accuracy: 0.9856\n",
      "Epoch 10/9999\n",
      " - 1s - loss: 0.0039 - accuracy: 0.9994 - val_loss: 0.0436 - val_accuracy: 0.9856\n",
      "Epoch 11/9999\n",
      " - 1s - loss: 0.0032 - accuracy: 0.9996 - val_loss: 0.0368 - val_accuracy: 0.9892\n",
      "Epoch 12/9999\n",
      " - 1s - loss: 0.0047 - accuracy: 0.9986 - val_loss: 0.0342 - val_accuracy: 0.9910\n"
     ]
    },
    {
     "name": "stderr",
     "output_type": "stream",
     "text": [
      "10it [02:17, 13.73s/it]"
     ]
    },
    {
     "name": "stdout",
     "output_type": "stream",
     "text": [
      "\n",
      " Predict test results:\n",
      "   Accuracy        F1  Precision    Recall\n",
      "0  0.991039  0.960630   0.983871  0.938462\n",
      "1  0.992832  0.972603   1.000000  0.946667\n",
      "2  0.994614  0.980392   1.000000  0.961538\n",
      "3  0.985637  0.947368   1.000000  0.900000\n",
      "4  0.985637  0.943662   0.985294  0.905405\n",
      "5  0.980251  0.920863   0.941176  0.901408\n",
      "6  0.991023  0.968553   0.987179  0.950617\n",
      "7  0.987433  0.954248   1.000000  0.912500\n",
      "8  0.994614  0.976000   1.000000  0.953125\n",
      "9  0.992819  0.974026   1.000000  0.949367\n",
      "\n",
      " Predict test statistics:\n",
      "           count      mean       std       min       50%       90%       max\n",
      "Accuracy    10.0  0.989590  0.004698  0.980251  0.991031  0.994614  0.994614\n",
      "F1          10.0  0.959835  0.018535  0.920863  0.964592  0.976439  0.980392\n",
      "Precision   10.0  0.989752  0.018411  0.941176  1.000000  1.000000  1.000000\n",
      "Recall      10.0  0.931909  0.024201  0.900000  0.942564  0.953966  0.961538\n"
     ]
    },
    {
     "name": "stderr",
     "output_type": "stream",
     "text": [
      "\n"
     ]
    }
   ],
   "source": [
    "kf = KFold(n_splits=10, shuffle = True)\n",
    "kf.get_n_splits(X)\n",
    "\n",
    "print(kf)\n",
    "\n",
    "callbacks_list = [keras.callbacks.EarlyStopping(monitor = 'val_loss', patience = 5, restore_best_weights = True)]\n",
    "\n",
    "Metrics = []\n",
    "Classifier = []\n",
    "\n",
    "for train_index, test_index in tqdm(kf.split(X)):\n",
    "    X_train, X_test = X[train_index], X[test_index]\n",
    "    y_train, y_test = y[train_index], y[test_index]\n",
    "    \n",
    "    \n",
    "    model = Sequential()\n",
    "    model.add(Dense(32, input_dim=X.shape[1], activation='relu'))\n",
    "    model.add(Dense(16, activation='relu'))\n",
    "    model.add(Dense(1, activation='sigmoid'))\n",
    "    \n",
    "    model.compile(loss='binary_crossentropy', optimizer='adam', metrics=['accuracy'])\n",
    "    \n",
    "    history = model.fit(X_train, y_train,\n",
    "                        epochs = 9999,\n",
    "                        validation_data = (X_test, y_test),\n",
    "                        batch_size = 64,\n",
    "                        callbacks = callbacks_list,\n",
    "                        shuffle = True,\n",
    "                        class_weight = class_weight,\n",
    "                        verbose = 2)\n",
    "    \n",
    "    y_pred = model.predict(X_test)\n",
    "    y_pred[y_pred >= 0.5] = 1\n",
    "    y_pred[y_pred < 0.5] = 0\n",
    "    \n",
    "    SubMetric = dict()\n",
    "    \n",
    "    SubMetric['Accuracy'] = accuracy_score(y_test, y_pred)\n",
    "    SubMetric['F1'] = f1_score(y_test, y_pred)\n",
    "    SubMetric['Precision'] = precision_score(y_test, y_pred)\n",
    "    SubMetric['Recall'] = recall_score(y_test, y_pred)\n",
    "    \n",
    "    Metrics.append(SubMetric)\n",
    "    Classifier.append(clf)\n",
    "    \n",
    "Metrics = pd.DataFrame.from_dict(Metrics)\n",
    "\n",
    "print('\\n Predict test results:')\n",
    "print(Metrics)\n",
    "\n",
    "print('\\n Predict test statistics:')\n",
    "print(Metrics.describe([.5, .9]).transpose())"
   ]
  },
  {
   "cell_type": "code",
   "execution_count": null,
   "metadata": {},
   "outputs": [],
   "source": []
  }
 ],
 "metadata": {
  "kernelspec": {
   "display_name": "Python 3",
   "language": "python",
   "name": "python3"
  },
  "language_info": {
   "codemirror_mode": {
    "name": "ipython",
    "version": 3
   },
   "file_extension": ".py",
   "mimetype": "text/x-python",
   "name": "python",
   "nbconvert_exporter": "python",
   "pygments_lexer": "ipython3",
   "version": "3.7.7"
  }
 },
 "nbformat": 4,
 "nbformat_minor": 4
}
