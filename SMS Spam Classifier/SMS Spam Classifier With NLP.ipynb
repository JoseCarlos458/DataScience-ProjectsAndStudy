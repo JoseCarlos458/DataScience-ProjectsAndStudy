{
 "cells": [
  {
   "cell_type": "code",
   "execution_count": 1,
   "metadata": {
    "scrolled": true
   },
   "outputs": [
    {
     "name": "stderr",
     "output_type": "stream",
     "text": [
      "[nltk_data] Downloading package stopwords to\n",
      "[nltk_data]     C:\\Users\\eduar\\AppData\\Roaming\\nltk_data...\n",
      "[nltk_data]   Package stopwords is already up-to-date!\n",
      "Using TensorFlow backend.\n",
      "C:\\Users\\eduar\\anaconda3\\envs\\tf_gpu\\lib\\site-packages\\tensorflow\\python\\framework\\dtypes.py:516: FutureWarning: Passing (type, 1) or '1type' as a synonym of type is deprecated; in a future version of numpy, it will be understood as (type, (1,)) / '(1,)type'.\n",
      "  _np_qint8 = np.dtype([(\"qint8\", np.int8, 1)])\n",
      "C:\\Users\\eduar\\anaconda3\\envs\\tf_gpu\\lib\\site-packages\\tensorflow\\python\\framework\\dtypes.py:517: FutureWarning: Passing (type, 1) or '1type' as a synonym of type is deprecated; in a future version of numpy, it will be understood as (type, (1,)) / '(1,)type'.\n",
      "  _np_quint8 = np.dtype([(\"quint8\", np.uint8, 1)])\n",
      "C:\\Users\\eduar\\anaconda3\\envs\\tf_gpu\\lib\\site-packages\\tensorflow\\python\\framework\\dtypes.py:518: FutureWarning: Passing (type, 1) or '1type' as a synonym of type is deprecated; in a future version of numpy, it will be understood as (type, (1,)) / '(1,)type'.\n",
      "  _np_qint16 = np.dtype([(\"qint16\", np.int16, 1)])\n",
      "C:\\Users\\eduar\\anaconda3\\envs\\tf_gpu\\lib\\site-packages\\tensorflow\\python\\framework\\dtypes.py:519: FutureWarning: Passing (type, 1) or '1type' as a synonym of type is deprecated; in a future version of numpy, it will be understood as (type, (1,)) / '(1,)type'.\n",
      "  _np_quint16 = np.dtype([(\"quint16\", np.uint16, 1)])\n",
      "C:\\Users\\eduar\\anaconda3\\envs\\tf_gpu\\lib\\site-packages\\tensorflow\\python\\framework\\dtypes.py:520: FutureWarning: Passing (type, 1) or '1type' as a synonym of type is deprecated; in a future version of numpy, it will be understood as (type, (1,)) / '(1,)type'.\n",
      "  _np_qint32 = np.dtype([(\"qint32\", np.int32, 1)])\n",
      "C:\\Users\\eduar\\anaconda3\\envs\\tf_gpu\\lib\\site-packages\\tensorflow\\python\\framework\\dtypes.py:525: FutureWarning: Passing (type, 1) or '1type' as a synonym of type is deprecated; in a future version of numpy, it will be understood as (type, (1,)) / '(1,)type'.\n",
      "  np_resource = np.dtype([(\"resource\", np.ubyte, 1)])\n"
     ]
    }
   ],
   "source": [
    "# Import Libraries\n",
    "import pandas as pd\n",
    "import numpy as np\n",
    "\n",
    "from tqdm import tqdm\n",
    "\n",
    "import nltk\n",
    "nltk.download('stopwords')\n",
    "from nltk.corpus import stopwords\n",
    "from nltk.stem.porter import PorterStemmer\n",
    "\n",
    "from sklearn.feature_extraction.text import CountVectorizer \n",
    "from sklearn.preprocessing import LabelEncoder\n",
    "\n",
    "from sklearn.model_selection import KFold\n",
    "from sklearn import tree\n",
    "from sklearn.utils import class_weight\n",
    "\n",
    "from sklearn.metrics import accuracy_score\n",
    "from sklearn.metrics import f1_score\n",
    "from sklearn.metrics import precision_score\n",
    "from sklearn.metrics import recall_score\n",
    "\n",
    "import seaborn as sns\n",
    "\n",
    "import re\n",
    "\n",
    "import matplotlib.pyplot as plt\n",
    "\n",
    "import keras\n",
    "from keras.models import Sequential\n",
    "from keras.layers import Dense\n"
   ]
  },
  {
   "cell_type": "code",
   "execution_count": 2,
   "metadata": {},
   "outputs": [],
   "source": [
    "# Read Dataset and drop unwanted Columns\n",
    "df = pd.read_csv('spam.csv', encoding = 'latin-1')\n",
    "df = df.drop(['Unnamed: 2', 'Unnamed: 3', 'Unnamed: 4'], axis = 1)"
   ]
  },
  {
   "cell_type": "code",
   "execution_count": 3,
   "metadata": {},
   "outputs": [
    {
     "data": {
      "image/png": "[encoded data removed]",
      "text/plain": [
       "<Figure size 432x288 with 1 Axes>"
      ]
     },
     "metadata": {
      "needs_background": "light"
     },
     "output_type": "display_data"
    }
   ],
   "source": [
    "# Check output class distribution\n",
    "ax = sns.countplot(df['v1'], label=\"Count\")"
   ]
  },
  {
   "cell_type": "code",
   "execution_count": 4,
   "metadata": {},
   "outputs": [],
   "source": [
    "# Add word count column\n",
    "WordCount = []\n",
    "for i in range(len(df)):\n",
    "    WordCount.append(len(df['v2'][i]))\n",
    "    \n",
    "df['WordCount'] = WordCount"
   ]
  },
  {
   "cell_type": "code",
   "execution_count": 5,
   "metadata": {},
   "outputs": [
    {
     "data": {
      "text/plain": [
       "(-50.0, 300.0)"
      ]
     },
     "execution_count": 5,
     "metadata": {},
     "output_type": "execute_result"
    },
    {
     "data": {
      "image/png": "[encoded data removed]",
      "text/plain": [
       "<Figure size 432x288 with 1 Axes>"
      ]
     },
     "metadata": {
      "needs_background": "light"
     },
     "output_type": "display_data"
    }
   ],
   "source": [
    "# Plot WordCount distribution for each class\n",
    "df_plot = df[df['v1'] == 'ham']\n",
    "sns.distplot(df_plot['WordCount'], hist = False, kde = True, label='ham')\n",
    "\n",
    "df_plot = df[df['v1'] == 'spam']\n",
    "sns.distplot(df_plot['WordCount'], hist = False, kde = True, label='spam')\n",
    "\n",
    "# Plot formatting\n",
    "plt.legend(prop={'size': 12})\n",
    "plt.title('Ham/Spam Density')\n",
    "plt.xlabel('Word Count')\n",
    "plt.ylabel('Density')  \n",
    "plt.xlim([-50, 300])"
   ]
  },
  {
   "cell_type": "code",
   "execution_count": 6,
   "metadata": {},
   "outputs": [
    {
     "name": "stderr",
     "output_type": "stream",
     "text": [
      "100%|█████████████████████████████████████████████████████████████████████████████| 5572/5572 [00:22<00:00, 252.58it/s]\n"
     ]
    }
   ],
   "source": [
    "# Process mensage texts\n",
    "Processed = []\n",
    "ps = PorterStemmer()\n",
    "\n",
    "for i in tqdm(range(len(df))):\n",
    "    msg = df['v2'][i]\n",
    "    msg = msg.lower()    \n",
    "    msg = msg.split()    \n",
    "    msg = [ps.stem(word) for word in msg if not word in set(stopwords.words('english'))]\n",
    "    msg = ' '.join(msg)\n",
    "    Processed.append(msg)"
   ]
  },
  {
   "cell_type": "code",
   "execution_count": 7,
   "metadata": {},
   "outputs": [
    {
     "name": "stdout",
     "output_type": "stream",
     "text": [
      "x.shape: (5572, 8194) \n",
      "y.shape: (5572,)\n",
      "x.shape: (5572, 8195) \n",
      "y.shape: (5572,)\n"
     ]
    }
   ],
   "source": [
    "# Vectorize Data\n",
    "cv = CountVectorizer()\n",
    "X, y = cv.fit_transform(Processed).toarray(), np.array(df['v1'].replace({'ham': 0, 'spam': 1}))\n",
    "print('x.shape:', X.shape, '\\ny.shape:', y.shape)\n",
    "\n",
    "X = np.hstack((X,np.array(df['WordCount']).reshape(-1,1)))\n",
    "print('x.shape:', X.shape, '\\ny.shape:', y.shape)"
   ]
  },
  {
   "cell_type": "code",
   "execution_count": 8,
   "metadata": {},
   "outputs": [
    {
     "name": "stderr",
     "output_type": "stream",
     "text": [
      "\r",
      "0it [00:00, ?it/s]"
     ]
    },
    {
     "name": "stdout",
     "output_type": "stream",
     "text": [
      "KFold(n_splits=10, random_state=None, shuffle=True)\n"
     ]
    },
    {
     "name": "stderr",
     "output_type": "stream",
     "text": [
      "10it [00:53,  5.37s/it]"
     ]
    },
    {
     "name": "stdout",
     "output_type": "stream",
     "text": [
      "\n",
      " Predict test results:\n",
      "   Accuracy        F1  Precision    Recall\n",
      "0  0.971326  0.894737   0.894737  0.894737\n",
      "1  0.960573  0.845070   0.845070  0.845070\n",
      "2  0.965889  0.874172   0.825000  0.929577\n",
      "3  0.967684  0.892857   0.872093  0.914634\n",
      "4  0.960503  0.853333   0.853333  0.853333\n",
      "5  0.951526  0.823529   0.759036  0.900000\n",
      "6  0.964093  0.855072   0.819444  0.893939\n",
      "7  0.965889  0.897297   0.882979  0.912088\n",
      "8  0.964093  0.875000   0.864198  0.886076\n",
      "9  0.969479  0.874074   0.855072  0.893939\n",
      "\n",
      " Predict test statistics:\n",
      "           count      mean       std       min       50%       90%       max\n",
      "Accuracy    10.0  0.964106  0.005616  0.951526  0.964991  0.969664  0.971326\n",
      "F1          10.0  0.868514  0.024032  0.823529  0.874123  0.894993  0.897297\n",
      "Precision   10.0  0.847096  0.038857  0.759036  0.854203  0.884155  0.894737\n",
      "Recall      10.0  0.892339  0.026116  0.845070  0.894338  0.916128  0.929577\n"
     ]
    },
    {
     "name": "stderr",
     "output_type": "stream",
     "text": [
      "\n"
     ]
    }
   ],
   "source": [
    "# Apply DecisionTreeClassifier to predict Ham/Spam\n",
    "kf = KFold(n_splits=10, shuffle = True)\n",
    "kf.get_n_splits(X)\n",
    "\n",
    "print(kf)\n",
    "\n",
    "Metrics = []\n",
    "\n",
    "Classifier = []\n",
    "\n",
    "for train_index, test_index in tqdm(kf.split(X)):\n",
    "    X_train, X_test = X[train_index], X[test_index]\n",
    "    y_train, y_test = y[train_index], y[test_index]\n",
    "    \n",
    "    clf = tree.DecisionTreeClassifier(class_weight = 'balanced')\n",
    "    clf = clf.fit(X_train, y_train)\n",
    "    \n",
    "    y_pred = clf.predict(X_test)\n",
    "    \n",
    "    SubMetric = dict()\n",
    "    \n",
    "    SubMetric['Accuracy'] = accuracy_score(y_test, y_pred)\n",
    "    SubMetric['F1'] = f1_score(y_test, y_pred)\n",
    "    SubMetric['Precision'] = precision_score(y_test, y_pred)\n",
    "    SubMetric['Recall'] = recall_score(y_test, y_pred)\n",
    "    \n",
    "    Metrics.append(SubMetric)\n",
    "    Classifier.append(clf)\n",
    "    \n",
    "Metrics = pd.DataFrame.from_dict(Metrics)\n",
    "\n",
    "print('\\n Predict test results:')\n",
    "print(Metrics)\n",
    "\n",
    "print('\\n Predict test statistics:')\n",
    "print(Metrics.describe([.5, .9]).transpose())"
   ]
  },
  {
   "cell_type": "code",
   "execution_count": 9,
   "metadata": {},
   "outputs": [
    {
     "name": "stderr",
     "output_type": "stream",
     "text": [
      "C:\\Users\\eduar\\anaconda3\\envs\\tf_gpu\\lib\\site-packages\\sklearn\\utils\\validation.py:71: FutureWarning: Pass classes=[0 1], y=[0 0 1 ... 0 0 0] as keyword args. From version 0.25 passing these as positional arguments will result in an error\n",
      "  FutureWarning)\n"
     ]
    }
   ],
   "source": [
    "# Compute Class Weights because of unbalanced data\n",
    "class_weight = class_weight.compute_class_weight('balanced', np.unique(y), y)"
   ]
  },
  {
   "cell_type": "code",
   "execution_count": 10,
   "metadata": {},
   "outputs": [
    {
     "name": "stderr",
     "output_type": "stream",
     "text": [
      "\r",
      "0it [00:00, ?it/s]"
     ]
    },
    {
     "name": "stdout",
     "output_type": "stream",
     "text": [
      "KFold(n_splits=10, random_state=None, shuffle=True)\n",
      "WARNING:tensorflow:From C:\\Users\\eduar\\anaconda3\\envs\\tf_gpu\\lib\\site-packages\\tensorflow\\python\\ops\\nn_impl.py:180: add_dispatch_support.<locals>.wrapper (from tensorflow.python.ops.array_ops) is deprecated and will be removed in a future version.\n",
      "Instructions for updating:\n",
      "Use tf.where in 2.0, which has the same broadcast rule as np.where\n",
      "WARNING:tensorflow:From C:\\Users\\eduar\\anaconda3\\envs\\tf_gpu\\lib\\site-packages\\keras\\backend\\tensorflow_backend.py:422: The name tf.global_variables is deprecated. Please use tf.compat.v1.global_variables instead.\n",
      "\n"
     ]
    },
    {
     "name": "stderr",
     "output_type": "stream",
     "text": [
      "10it [01:43, 10.39s/it]"
     ]
    },
    {
     "name": "stdout",
     "output_type": "stream",
     "text": [
      "\n",
      " Predict test results:\n",
      "   Accuracy        F1  Precision    Recall\n",
      "0  0.989247  0.961039   1.000000  0.925000\n",
      "1  0.987455  0.950355   0.985294  0.917808\n",
      "2  0.985637  0.941176   0.984615  0.901408\n",
      "3  0.991023  0.964029   1.000000  0.930556\n",
      "4  0.985637  0.943662   1.000000  0.893333\n",
      "5  0.994614  0.980892   0.987179  0.974684\n",
      "6  0.987433  0.949640   0.985075  0.916667\n",
      "7  0.994614  0.976744   1.000000  0.954545\n",
      "8  0.994614  0.981132   0.987342  0.975000\n",
      "9  0.985637  0.946667   1.000000  0.898734\n",
      "\n",
      " Predict test statistics:\n",
      "           count      mean       std       min       50%       90%       max\n",
      "Accuracy    10.0  0.989591  0.003858  0.985637  0.988351  0.994614  0.994614\n",
      "F1          10.0  0.959534  0.015556  0.941176  0.955697  0.980916  0.981132\n",
      "Precision   10.0  0.992951  0.007479  0.984615  0.993671  1.000000  1.000000\n",
      "Recall      10.0  0.928774  0.030000  0.893333  0.921404  0.974715  0.975000\n"
     ]
    },
    {
     "name": "stderr",
     "output_type": "stream",
     "text": [
      "\n"
     ]
    }
   ],
   "source": [
    "# Apply MultiLayerPerceptron with Keras to predict Ham/Spam\n",
    "kf = KFold(n_splits=10, shuffle = True)\n",
    "kf.get_n_splits(X)\n",
    "\n",
    "print(kf)\n",
    "\n",
    "callbacks_list = [keras.callbacks.EarlyStopping(monitor = 'val_loss', patience = 5, restore_best_weights = True)]\n",
    "\n",
    "Metrics = []\n",
    "Classifier = []\n",
    "\n",
    "for train_index, test_index in tqdm(kf.split(X)):\n",
    "    X_train, X_test = X[train_index], X[test_index]\n",
    "    y_train, y_test = y[train_index], y[test_index]\n",
    "    \n",
    "    \n",
    "    model = Sequential()\n",
    "    model.add(Dense(32, input_dim=X.shape[1], activation='relu'))\n",
    "    model.add(Dense(16, activation='relu'))\n",
    "    model.add(Dense(1, activation='sigmoid'))\n",
    "    \n",
    "    model.compile(loss='binary_crossentropy', optimizer='adam', metrics=['accuracy'])\n",
    "    \n",
    "    history = model.fit(X_train, y_train,\n",
    "                        epochs = 9999,\n",
    "                        validation_data = (X_test, y_test),\n",
    "                        batch_size = 64,\n",
    "                        callbacks = callbacks_list,\n",
    "                        shuffle = True,\n",
    "                        class_weight = class_weight,\n",
    "                        verbose = 0)\n",
    "    \n",
    "    y_pred = model.predict(X_test)\n",
    "    y_pred[y_pred >= 0.5] = 1\n",
    "    y_pred[y_pred < 0.5] = 0\n",
    "    \n",
    "    SubMetric = dict()\n",
    "    \n",
    "    SubMetric['Accuracy'] = accuracy_score(y_test, y_pred)\n",
    "    SubMetric['F1'] = f1_score(y_test, y_pred)\n",
    "    SubMetric['Precision'] = precision_score(y_test, y_pred)\n",
    "    SubMetric['Recall'] = recall_score(y_test, y_pred)\n",
    "    \n",
    "    Metrics.append(SubMetric)\n",
    "    Classifier.append(clf)\n",
    "    \n",
    "Metrics = pd.DataFrame.from_dict(Metrics)\n",
    "\n",
    "print('\\n Predict test results:')\n",
    "print(Metrics)\n",
    "\n",
    "print('\\n Predict test statistics:')\n",
    "print(Metrics.describe([.5, .9]).transpose())"
   ]
  },
  {
   "cell_type": "code",
   "execution_count": null,
   "metadata": {},
   "outputs": [],
   "source": []
  }
 ],
 "metadata": {
  "kernelspec": {
   "display_name": "Python 3",
   "language": "python",
   "name": "python3"
  },
  "language_info": {
   "codemirror_mode": {
    "name": "ipython",
    "version": 3
   },
   "file_extension": ".py",
   "mimetype": "text/x-python",
   "name": "python",
   "nbconvert_exporter": "python",
   "pygments_lexer": "ipython3",
   "version": "3.7.7"
  }
 },
 "nbformat": 4,
 "nbformat_minor": 4
}
